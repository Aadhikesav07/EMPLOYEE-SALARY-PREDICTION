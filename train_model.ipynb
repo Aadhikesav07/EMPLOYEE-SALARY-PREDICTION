{
  "nbformat": 4,
  "nbformat_minor": 0,
  "metadata": {
    "colab": {
      "provenance": [],
      "authorship_tag": "ABX9TyPN07ZhSC95+A/d8+JQQpij",
      "include_colab_link": true
    },
    "kernelspec": {
      "name": "python3",
      "display_name": "Python 3"
    },
    "language_info": {
      "name": "python"
    }
  },
  "cells": [
    {
      "cell_type": "markdown",
      "metadata": {
        "id": "view-in-github",
        "colab_type": "text"
      },
      "source": [
        "<a href=\"https://colab.research.google.com/github/Aadhikesav07/EMPLOYEE-SALARY-PREDICTION/blob/main/train_model.ipynb\" target=\"_parent\"><img src=\"https://colab.research.google.com/assets/colab-badge.svg\" alt=\"Open In Colab\"/></a>"
      ]
    },
    {
      "cell_type": "code",
      "execution_count": 1,
      "metadata": {
        "colab": {
          "base_uri": "https://localhost:8080/"
        },
        "id": "d8iD2g6JAXkL",
        "outputId": "fae0681c-738b-42cf-ba9e-8ba183c88df1"
      },
      "outputs": [
        {
          "output_type": "stream",
          "name": "stdout",
          "text": [
            "Test Accuracy: 0.8639574163169209\n",
            "\n",
            "Classification Report:\n",
            "               precision    recall  f1-score   support\n",
            "\n",
            "       <=50K       0.88      0.95      0.91      7431\n",
            "        >50K       0.78      0.60      0.68      2338\n",
            "\n",
            "    accuracy                           0.86      9769\n",
            "   macro avg       0.83      0.77      0.80      9769\n",
            "weighted avg       0.86      0.86      0.86      9769\n",
            "\n",
            "Artifacts saved: model.pkl, encoders.pkl, columns.pkl, target_encoder.pkl\n"
          ]
        }
      ],
      "source": [
        "import pandas as pd\n",
        "import numpy as np\n",
        "from sklearn.model_selection import train_test_split\n",
        "from sklearn.preprocessing import LabelEncoder\n",
        "from sklearn.ensemble import GradientBoostingClassifier\n",
        "from sklearn.metrics import classification_report, accuracy_score\n",
        "import pickle\n",
        "\n",
        "# 1) Load your data\n",
        "# Replace 'adult.csv' with your actual CSV path\n",
        "df = pd.read_csv(\"adult 3.csv\")\n",
        "\n",
        "# 2) Define the features & target\n",
        "FEATURES = [\n",
        "    \"age\",\n",
        "    \"workclass\",\n",
        "    \"education\",\n",
        "    \"occupation\",\n",
        "    \"gender\",\n",
        "    \"marital-status\",\n",
        "    \"capital-gain\",\n",
        "    \"hours-per-week\",\n",
        "]\n",
        "TARGET = \"income\"  # should be '>50K' or '<=50K'\n",
        "\n",
        "# 3) (Optional) Clean or filter your data\n",
        "#    – e.g. drop rows with missing values\n",
        "df = df.dropna(subset=FEATURES + [TARGET])\n",
        "\n",
        "# 4) Split into train/test\n",
        "X = df[FEATURES].copy()\n",
        "y = df[TARGET].copy()\n",
        "X_train, X_test, y_train, y_test = train_test_split(\n",
        "    X, y, test_size=0.2, random_state=42, stratify=y\n",
        ")\n",
        "\n",
        "# 5) Fit LabelEncoders for all categorical features + the target\n",
        "encoders = {}\n",
        "for col in FEATURES:\n",
        "    if X_train[col].dtype == object:\n",
        "        le = LabelEncoder()\n",
        "        X_train[col] = le.fit_transform(X_train[col])\n",
        "        X_test[col]  = le.transform(X_test[col])\n",
        "        encoders[col] = le\n",
        "\n",
        "# Target encoder\n",
        "target_encoder = LabelEncoder()\n",
        "y_train_enc = target_encoder.fit_transform(y_train)\n",
        "y_test_enc  = target_encoder.transform(y_test)\n",
        "\n",
        "# 6) Train the Gradient Boosting Classifier\n",
        "model = GradientBoostingClassifier(\n",
        "    n_estimators=100,\n",
        "    learning_rate=0.1,\n",
        "    max_depth=3,\n",
        "    random_state=42\n",
        ")\n",
        "model.fit(X_train, y_train_enc)\n",
        "\n",
        "# 7) Evaluate on test set\n",
        "y_pred = model.predict(X_test)\n",
        "print(\"Test Accuracy:\", accuracy_score(y_test_enc, y_pred))\n",
        "print(\"\\nClassification Report:\\n\", classification_report(y_test_enc, y_pred, target_names=target_encoder.classes_))\n",
        "\n",
        "# 8) Serialize artifacts for your Streamlit app\n",
        "with open(\"model.pkl\", \"wb\") as f:\n",
        "    pickle.dump(model, f)\n",
        "\n",
        "with open(\"encoders.pkl\", \"wb\") as f:\n",
        "    pickle.dump(encoders, f)\n",
        "\n",
        "# Save the exact feature order your app expects\n",
        "with open(\"columns.pkl\", \"wb\") as f:\n",
        "    pickle.dump(FEATURES, f)\n",
        "\n",
        "with open(\"target_encoder.pkl\", \"wb\") as f:\n",
        "    pickle.dump(target_encoder, f)\n",
        "\n",
        "print(\"Artifacts saved: model.pkl, encoders.pkl, columns.pkl, target_encoder.pkl\")"
      ]
    },
    {
      "cell_type": "code",
      "source": [
        "! pip install streamlit -q"
      ],
      "metadata": {
        "colab": {
          "base_uri": "https://localhost:8080/"
        },
        "id": "yugb6ulECef8",
        "outputId": "d54873bd-5331-41d3-8fe9-89561e7b898c"
      },
      "execution_count": 2,
      "outputs": [
        {
          "output_type": "stream",
          "name": "stdout",
          "text": [
            "\u001b[2K     \u001b[90m━━━━━━━━━━━━━━━━━━━━━━━━━━━━━━━━━━━━━━━━\u001b[0m \u001b[32m44.3/44.3 kB\u001b[0m \u001b[31m2.1 MB/s\u001b[0m eta \u001b[36m0:00:00\u001b[0m\n",
            "\u001b[2K   \u001b[90m━━━━━━━━━━━━━━━━━━━━━━━━━━━━━━━━━━━━━━━━\u001b[0m \u001b[32m9.9/9.9 MB\u001b[0m \u001b[31m69.6 MB/s\u001b[0m eta \u001b[36m0:00:00\u001b[0m\n",
            "\u001b[2K   \u001b[90m━━━━━━━━━━━━━━━━━━━━━━━━━━━━━━━━━━━━━━━━\u001b[0m \u001b[32m6.9/6.9 MB\u001b[0m \u001b[31m90.6 MB/s\u001b[0m eta \u001b[36m0:00:00\u001b[0m\n",
            "\u001b[2K   \u001b[90m━━━━━━━━━━━━━━━━━━━━━━━━━━━━━━━━━━━━━━━━\u001b[0m \u001b[32m79.1/79.1 kB\u001b[0m \u001b[31m5.3 MB/s\u001b[0m eta \u001b[36m0:00:00\u001b[0m\n",
            "\u001b[?25h"
          ]
        }
      ]
    },
    {
      "cell_type": "code",
      "source": [
        "!wget -q -O - ipv4.icanazip.com\n"
      ],
      "metadata": {
        "id": "pg8iZ2NzEe8y"
      },
      "execution_count": 15,
      "outputs": []
    },
    {
      "cell_type": "code",
      "source": [
        "! streamlit run app.py & npx localtunnel --port 8501"
      ],
      "metadata": {
        "colab": {
          "base_uri": "https://localhost:8080/"
        },
        "id": "LJ5iTAqHDMMU",
        "outputId": "853720a9-4969-4036-ccaa-197ca9aa143c"
      },
      "execution_count": 4,
      "outputs": [
        {
          "output_type": "stream",
          "name": "stdout",
          "text": [
            "\u001b[1G\u001b[0K⠙\u001b[1G\u001b[0K⠹\u001b[1G\u001b[0K⠸\n",
            "Collecting usage statistics. To deactivate, set browser.gatherUsageStats to false.\n",
            "\u001b[0m\n",
            "\u001b[1G\u001b[0K⠼\u001b[1G\u001b[0K⠴\u001b[1G\u001b[0K⠦\u001b[1G\u001b[0K⠧\u001b[1G\u001b[0K⠇\u001b[1G\u001b[0K⠏\u001b[1G\u001b[0K⠋\u001b[1G\u001b[0K⠙\u001b[0m\n",
            "\u001b[34m\u001b[1m  You can now view your Streamlit app in your browser.\u001b[0m\n",
            "\u001b[0m\n",
            "\u001b[34m  Local URL: \u001b[0m\u001b[1mhttp://localhost:8501\u001b[0m\n",
            "\u001b[34m  Network URL: \u001b[0m\u001b[1mhttp://172.28.0.12:8501\u001b[0m\n",
            "\u001b[34m  External URL: \u001b[0m\u001b[1mhttp://35.239.11.36:8501\u001b[0m\n",
            "\u001b[0m\n",
            "\u001b[1G\u001b[0K⠹\u001b[1G\u001b[0K⠸\u001b[1G\u001b[0K⠼\u001b[1G\u001b[0K\u001b[1G\u001b[0JNeed to install the following packages:\n",
            "localtunnel@2.0.2\n",
            "Ok to proceed? (y) \u001b[20Gy\n",
            "\n",
            "\u001b[1G\u001b[0K⠙\u001b[1G\u001b[0K⠹\u001b[1G\u001b[0K⠸\u001b[1G\u001b[0K⠼\u001b[1G\u001b[0K⠴\u001b[1G\u001b[0K⠦\u001b[1G\u001b[0K⠧\u001b[1G\u001b[0K⠇\u001b[1G\u001b[0K⠏\u001b[1G\u001b[0K⠋\u001b[1G\u001b[0K⠙\u001b[1G\u001b[0K⠹\u001b[1G\u001b[0K⠸\u001b[1G\u001b[0K⠼\u001b[1G\u001b[0K⠴\u001b[1G\u001b[0K⠦\u001b[1G\u001b[0K⠧\u001b[1G\u001b[0K⠇\u001b[1G\u001b[0K⠏\u001b[1G\u001b[0K⠋\u001b[1G\u001b[0K⠙\u001b[1G\u001b[0K⠹\u001b[1G\u001b[0Kyour url is: https://gentle-mugs-relax.loca.lt\n",
            "\u001b[34m  Stopping...\u001b[0m\n",
            "^C\n"
          ]
        }
      ]
    }
  ]
}